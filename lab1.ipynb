{
 "cells": [
  {
   "cell_type": "markdown",
   "id": "faf41840-68bc-424b-adee-7dff5d3f1ee0",
   "metadata": {},
   "source": [
    "# 1. Python Basic\n",
    "\n",
    "## 1.1 Hello world\n",
    "\n",
    "<p>We will use the print() function to print our first python program: hello world.</p>\n",
    "\n",
    "<p>Here, 'hello world' is a string, a sequence of characters. In Python strings are enclosed in single quotes, doubles quotes, or trible quotes</p>"
   ]
  },
  {
   "cell_type": "code",
   "execution_count": 4,
   "id": "74d900ca-e9dc-430e-9347-6b620728304c",
   "metadata": {},
   "outputs": [
    {
     "name": "stdout",
     "output_type": "stream",
     "text": [
      "hello world\n",
      "hello world\n",
      "hello\n",
      "\n",
      "world\n"
     ]
    }
   ],
   "source": [
    "print('hello world')\n",
    "print(\"hello world\")\n",
    "# triple quotes allows the string to span multiple lines\n",
    "print(\"\"\"hello\n",
    "\n",
    "world\"\"\")"
   ]
  },
  {
   "cell_type": "markdown",
   "id": "e8d71f79-ffdc-4252-b668-5685661f045a",
   "metadata": {},
   "source": [
    "## 1.2 Comments\n",
    "<p>Comments are very impotant while writing a program. They explain the codes in lines for programmers to better understand a program</p>\n",
    "<p>In python we use the hash (#) symbol to start writing a comment. Python interpreter ignores comments during execution.</p>\n",
    "<ul>\n",
    "    <li># for one line</li>\n",
    "</ul>\n",
    "<p>We can have comments that extend up to multiple lines. One way is use the hash (#) symbol at the beginning of each line. Another way of doing this is use triple quotes, either ''' or \"\"\"</p>\n",
    "<ul>\n",
    "    <li>''' ''' for multiple lines</li>\n",
    "</ul>"
   ]
  },
  {
   "cell_type": "code",
   "execution_count": 5,
   "id": "8762623e-7abc-4ec9-9279-45aa27616027",
   "metadata": {},
   "outputs": [
    {
     "name": "stdout",
     "output_type": "stream",
     "text": [
      "hello world\n"
     ]
    }
   ],
   "source": [
    "print(\"hello world\") #this is a comment"
   ]
  },
  {
   "cell_type": "code",
   "execution_count": 6,
   "id": "7eaa0371-aa48-43a9-9a9b-a51764579b92",
   "metadata": {},
   "outputs": [
    {
     "name": "stdout",
     "output_type": "stream",
     "text": [
      "hello world\n"
     ]
    }
   ],
   "source": [
    "'''\n",
    "this is the comment\n",
    "Python interpreter ignores \n",
    "comments during execution.\n",
    "\n",
    "'''\n",
    "print('hello world')"
   ]
  },
  {
   "cell_type": "markdown",
   "id": "fa8bcb1e-65be-4a0c-8352-fd2a89b27a12",
   "metadata": {},
   "source": [
    "## 1.3 Packages and modules\n",
    "<p>Python has packages and modules. A module is a file containing Python code. A package is like a directory that contains sub-packages and modules. A library contains multiple modules.</p>\n",
    "<p>As our application program grows larger in size with a lot of modules, we place simlilar module in one package and different modules in different packages. This make a project (program) easy to manage and conceptually clear.</p>\n",
    "<p>Python packages can have sub-packages and modules.</p>\n",
    "<p>To use this packages and modules in Python:</p>\n",
    "<ul>\n",
    "    <li>import</li>\n",
    "    <li>from ...import ...</li>\n",
    "</ul>"
   ]
  },
  {
   "cell_type": "code",
   "execution_count": 1,
   "id": "0aa36a7c-82e2-4838-a848-8cb6c782d539",
   "metadata": {},
   "outputs": [
    {
     "data": {
      "text/plain": [
       "'C:\\\\Users\\\\User\\\\python_course'"
      ]
     },
     "execution_count": 1,
     "metadata": {},
     "output_type": "execute_result"
    }
   ],
   "source": [
    "import os #import os module\n",
    "os.getcwd() # get the current working directory"
   ]
  },
  {
   "cell_type": "code",
   "execution_count": 2,
   "id": "8a4bffce-fa25-468b-a55e-b13f789246ab",
   "metadata": {},
   "outputs": [
    {
     "data": {
      "text/plain": [
       "'C:\\\\Users\\\\User\\\\python_course'"
      ]
     },
     "execution_count": 2,
     "metadata": {},
     "output_type": "execute_result"
    }
   ],
   "source": [
    "from os import getcwd # import getcwd method from os module\n",
    "getcwd() "
   ]
  },
  {
   "cell_type": "markdown",
   "id": "1b92165c-6e64-49d7-8763-dc6baadccb73",
   "metadata": {},
   "source": [
    "<p>If a package name is too complex to call, you can give it an alias.</p>"
   ]
  },
  {
   "cell_type": "code",
   "execution_count": 3,
   "id": "e4209ffe-c5e0-425c-a56d-74fb25c01f57",
   "metadata": {},
   "outputs": [
    {
     "data": {
      "text/plain": [
       "'Windows-10-10.0.22631-SP0'"
      ]
     },
     "execution_count": 3,
     "metadata": {},
     "output_type": "execute_result"
    }
   ],
   "source": [
    "import platform\n",
    "platform.platform()"
   ]
  },
  {
   "cell_type": "code",
   "execution_count": 4,
   "id": "716db5bc-e7f0-412b-85f9-e92616ad65b3",
   "metadata": {},
   "outputs": [
    {
     "data": {
      "text/plain": [
       "'Windows-10-10.0.22631-SP0'"
      ]
     },
     "execution_count": 4,
     "metadata": {},
     "output_type": "execute_result"
    }
   ],
   "source": [
    "import platform as pf\n",
    "pf.platform()"
   ]
  },
  {
   "cell_type": "markdown",
   "id": "c4dc71e4-222f-4f3b-a402-137d781f8c48",
   "metadata": {},
   "source": [
    "## 1.4 Variables\n",
    "<p>Variables are containers for storing data values. A variable is named location used to store data in the memory.</p>\n",
    "<p>Declaring and assigning value to a variable:</p>"
   ]
  },
  {
   "cell_type": "code",
   "execution_count": 5,
   "id": "7b646728-60a4-4980-a0e7-3fdcc3db8d9d",
   "metadata": {},
   "outputs": [
    {
     "name": "stdout",
     "output_type": "stream",
     "text": [
      "1\n"
     ]
    }
   ],
   "source": [
    "a = 1 \n",
    "print(a)"
   ]
  },
  {
   "cell_type": "markdown",
   "id": "59f32d87-5073-4e93-be26-34709bd3a1da",
   "metadata": {},
   "source": [
    "<p>The value of a variable can be changed later in the program.</p>"
   ]
  },
  {
   "cell_type": "code",
   "execution_count": 6,
   "id": "80430a91-b2a9-4918-928f-5e7a532a4b1d",
   "metadata": {},
   "outputs": [
    {
     "name": "stdout",
     "output_type": "stream",
     "text": [
      "2\n"
     ]
    }
   ],
   "source": [
    "a = 2\n",
    "print(a)"
   ]
  },
  {
   "cell_type": "markdown",
   "id": "ea67c657-bb66-481b-8adc-b40d3c67e9f8",
   "metadata": {},
   "source": [
    "## 1.5 Naming rules and keywords\n",
    "### 1.5.1 Naming rules\n",
    "<p>Variable names should have a combination of letters in lowercase (a to z) or uppercase (A to Z) or digits (0 to 9) or an underscore ( _ ).</p>"
   ]
  },
  {
   "cell_type": "code",
   "execution_count": 8,
   "id": "06c404cf-c9a9-4a94-88df-d61f1439af67",
   "metadata": {},
   "outputs": [],
   "source": [
    "a9A_ = 1"
   ]
  },
  {
   "cell_type": "markdown",
   "id": "3113d1c0-0fab-4928-97ba-3a5fccda6feb",
   "metadata": {},
   "source": [
    "<p>Create a name that makes sense.</p>"
   ]
  },
  {
   "cell_type": "code",
   "execution_count": 9,
   "id": "3a5c01f3-3351-4b77-9f56-69551b01ddae",
   "metadata": {},
   "outputs": [],
   "source": [
    "wasd = 100\n",
    "price = 100 "
   ]
  },
  {
   "cell_type": "markdown",
   "id": "feb1df7c-0d4e-447a-ba57-31639dbed3db",
   "metadata": {},
   "source": [
    "<p>If you want to create a variable name having two words, use underscore to separate them.</p>"
   ]
  },
  {
   "cell_type": "code",
   "execution_count": 10,
   "id": "741f435a-1212-4f08-a6d1-5fb70bb6b4ee",
   "metadata": {},
   "outputs": [],
   "source": [
    "number_of_cats = 6"
   ]
  },
  {
   "cell_type": "markdown",
   "id": "4467fd57-5c4b-4e8c-949c-09d83d10d933",
   "metadata": {},
   "source": [
    "<p>don't start a variable name with a digit.</p>"
   ]
  },
  {
   "cell_type": "code",
   "execution_count": 11,
   "id": "bc46945f-c677-4b3d-a30e-8ee16aac8ee6",
   "metadata": {},
   "outputs": [
    {
     "ename": "SyntaxError",
     "evalue": "invalid decimal literal (1311808018.py, line 1)",
     "output_type": "error",
     "traceback": [
      "\u001b[1;36m  Cell \u001b[1;32mIn[11], line 1\u001b[1;36m\u001b[0m\n\u001b[1;33m    1a = 1 # incorrect variable names\u001b[0m\n\u001b[1;37m    ^\u001b[0m\n\u001b[1;31mSyntaxError\u001b[0m\u001b[1;31m:\u001b[0m invalid decimal literal\n"
     ]
    }
   ],
   "source": [
    "1a = 1 # incorrect variable names"
   ]
  },
  {
   "cell_type": "markdown",
   "id": "d2638a8d-d48a-452a-9979-2f1d59e7f7be",
   "metadata": {},
   "source": [
    "### 1.5.2 Keywords\n",
    "<p>Keywords are the reserved word in Python. They cannot be uses as ordinary identifiers and must be spell exactly.</p>\n",
    "<p>There are 35 keywords in Python 3.7</p>"
   ]
  },
  {
   "cell_type": "code",
   "execution_count": 7,
   "id": "99406d9b-0ee6-441b-8896-e3beda647297",
   "metadata": {},
   "outputs": [
    {
     "ename": "SyntaxError",
     "evalue": "invalid syntax (190131674.py, line 1)",
     "output_type": "error",
     "traceback": [
      "\u001b[1;36m  Cell \u001b[1;32mIn[7], line 1\u001b[1;36m\u001b[0m\n\u001b[1;33m    def = 1 # when variable name is a keyword\u001b[0m\n\u001b[1;37m        ^\u001b[0m\n\u001b[1;31mSyntaxError\u001b[0m\u001b[1;31m:\u001b[0m invalid syntax\n"
     ]
    }
   ],
   "source": [
    "def = 1 # when variable name is a keyword"
   ]
  },
  {
   "cell_type": "code",
   "execution_count": 12,
   "id": "ca86cf11-a2e1-4a1f-8879-82c8b65468d5",
   "metadata": {},
   "outputs": [
    {
     "data": {
      "text/plain": [
       "['False',\n",
       " 'None',\n",
       " 'True',\n",
       " 'and',\n",
       " 'as',\n",
       " 'assert',\n",
       " 'async',\n",
       " 'await',\n",
       " 'break',\n",
       " 'class',\n",
       " 'continue',\n",
       " 'def',\n",
       " 'del',\n",
       " 'elif',\n",
       " 'else',\n",
       " 'except',\n",
       " 'finally',\n",
       " 'for',\n",
       " 'from',\n",
       " 'global',\n",
       " 'if',\n",
       " 'import',\n",
       " 'in',\n",
       " 'is',\n",
       " 'lambda',\n",
       " 'nonlocal',\n",
       " 'not',\n",
       " 'or',\n",
       " 'pass',\n",
       " 'raise',\n",
       " 'return',\n",
       " 'try',\n",
       " 'while',\n",
       " 'with',\n",
       " 'yield']"
      ]
     },
     "execution_count": 12,
     "metadata": {},
     "output_type": "execute_result"
    }
   ],
   "source": [
    "import keyword\n",
    "keyword.kwlist"
   ]
  },
  {
   "cell_type": "code",
   "execution_count": 14,
   "id": "256dcebe-d7ee-4f5c-b1b9-e448e2b4c728",
   "metadata": {},
   "outputs": [
    {
     "name": "stdout",
     "output_type": "stream",
     "text": [
      "\n",
      "Here is a list of the Python keywords.  Enter any keyword to get more help.\n",
      "\n",
      "False               class               from                or\n",
      "None                continue            global              pass\n",
      "True                def                 if                  raise\n",
      "and                 del                 import              return\n",
      "as                  elif                in                  try\n",
      "assert              else                is                  while\n",
      "async               except              lambda              with\n",
      "await               finally             nonlocal            yield\n",
      "break               for                 not                 \n",
      "\n"
     ]
    }
   ],
   "source": [
    "help(\"keywords\")"
   ]
  },
  {
   "cell_type": "markdown",
   "id": "f538d1fa-1b81-46a8-913c-f482d9cd7870",
   "metadata": {},
   "source": [
    "## 1.6 Switching values"
   ]
  },
  {
   "cell_type": "code",
   "execution_count": 15,
   "id": "cc61b03b-a8f6-4a9e-b8e1-49b61b5bbc9c",
   "metadata": {},
   "outputs": [
    {
     "name": "stdout",
     "output_type": "stream",
     "text": [
      "1\n",
      "2\n"
     ]
    }
   ],
   "source": [
    "a = 1 \n",
    "b = 2\n",
    "print(a)\n",
    "print(b)"
   ]
  },
  {
   "cell_type": "code",
   "execution_count": 16,
   "id": "5fb0e957-6eac-4345-a6bd-270b95182870",
   "metadata": {},
   "outputs": [
    {
     "name": "stdout",
     "output_type": "stream",
     "text": [
      "2\n",
      "1\n"
     ]
    }
   ],
   "source": [
    "a, b = b, a\n",
    "print(a)\n",
    "print(b)"
   ]
  },
  {
   "cell_type": "markdown",
   "id": "6b30a7de-3af2-4103-b49e-9207e0b5120d",
   "metadata": {},
   "source": [
    "## 1.7 Execution order in Python\n",
    "<p>From top to bottom:</p>"
   ]
  },
  {
   "cell_type": "code",
   "execution_count": 17,
   "id": "120c98b7-8c4a-45ac-a9d2-30bce6ade098",
   "metadata": {},
   "outputs": [
    {
     "ename": "NameError",
     "evalue": "name 'y' is not defined",
     "output_type": "error",
     "traceback": [
      "\u001b[1;31m---------------------------------------------------------------------------\u001b[0m",
      "\u001b[1;31mNameError\u001b[0m                                 Traceback (most recent call last)",
      "Cell \u001b[1;32mIn[17], line 2\u001b[0m\n\u001b[0;32m      1\u001b[0m x \u001b[38;5;241m=\u001b[39m \u001b[38;5;241m0\u001b[39m\n\u001b[1;32m----> 2\u001b[0m \u001b[38;5;28mprint\u001b[39m(x \u001b[38;5;241m+\u001b[39m y)\n\u001b[0;32m      3\u001b[0m y \u001b[38;5;241m=\u001b[39m \u001b[38;5;241m1\u001b[39m\n",
      "\u001b[1;31mNameError\u001b[0m: name 'y' is not defined"
     ]
    }
   ],
   "source": [
    "x = 0\n",
    "print(x + y)\n",
    "y = 1"
   ]
  },
  {
   "cell_type": "markdown",
   "id": "3fa29f2e-977e-4038-86de-e3fc37b2da85",
   "metadata": {},
   "source": [
    "## 1.8 Indentation\n",
    "<p>A code block (body of function, loop, etc.) starts with indentation and ends with the first unindented line.</p>\n",
    "<p>The number of space to be indented is up to you, but it must be consistent throughout that block</p>\n",
    "<p>Indentation makes Python code look neat and clean. This also make Python code look similar and consistent.</p>"
   ]
  },
  {
   "cell_type": "code",
   "execution_count": 19,
   "id": "f7fab17c-a6a7-4652-a9a9-232b03b37874",
   "metadata": {},
   "outputs": [],
   "source": [
    "def func1():\n",
    "    a = 1\n",
    "    b = 1\n",
    "\n",
    "def func2():\n",
    "    a = 2\n",
    "    b = 2"
   ]
  },
  {
   "cell_type": "markdown",
   "id": "14b3c136-776a-46a5-9753-0f2ac16cb66c",
   "metadata": {},
   "source": [
    "## 1.9 Global Variables and Local Variables\n",
    "<p>Global variables are variables declared in global scope (code block without indentation)</p>\n",
    "<p>Local variables are variables declared in local scope (code block with indentation)</p>"
   ]
  },
  {
   "cell_type": "code",
   "execution_count": 20,
   "id": "a1ba851b-678f-485c-be8e-63bb4cf73a99",
   "metadata": {},
   "outputs": [
    {
     "name": "stdout",
     "output_type": "stream",
     "text": [
      "4\n"
     ]
    }
   ],
   "source": [
    "a = 1 # global variable\n",
    "\n",
    "def func(): # define a function \n",
    "    f = 2 # local variables\n",
    "\n",
    "c = 3\n",
    "\n",
    "print(a + c)"
   ]
  },
  {
   "cell_type": "code",
   "execution_count": 21,
   "id": "8283542c-fd3e-47a3-877b-063d852c7112",
   "metadata": {},
   "outputs": [
    {
     "ename": "NameError",
     "evalue": "name 'f' is not defined",
     "output_type": "error",
     "traceback": [
      "\u001b[1;31m---------------------------------------------------------------------------\u001b[0m",
      "\u001b[1;31mNameError\u001b[0m                                 Traceback (most recent call last)",
      "Cell \u001b[1;32mIn[21], line 1\u001b[0m\n\u001b[1;32m----> 1\u001b[0m \u001b[38;5;28mprint\u001b[39m(a \u001b[38;5;241m+\u001b[39m f)\n",
      "\u001b[1;31mNameError\u001b[0m: name 'f' is not defined"
     ]
    }
   ],
   "source": [
    "print(a + f)"
   ]
  },
  {
   "cell_type": "markdown",
   "id": "ddd2a049-5e66-4ff7-b884-baefbc735b15",
   "metadata": {},
   "source": [
    "## 1.10 Standard I/O\n",
    "<p>To read from stadard input, use input() function.</p>\n",
    "<p>To write to stadart output, use print() function.</p>"
   ]
  },
  {
   "cell_type": "code",
   "execution_count": 22,
   "id": "68decd69-2018-4026-9f09-1bdb6d2eaa0a",
   "metadata": {},
   "outputs": [
    {
     "name": "stdin",
     "output_type": "stream",
     "text": [
      "input:  1\n"
     ]
    },
    {
     "name": "stdout",
     "output_type": "stream",
     "text": [
      "1\n"
     ]
    }
   ],
   "source": [
    "s = input(\"input: \")\n",
    "print(s)"
   ]
  },
  {
   "cell_type": "markdown",
   "id": "46e5937a-9adb-4f7e-b14d-407d3c52a1e3",
   "metadata": {},
   "source": [
    "## 1.11 Python Basic Functions\n",
    "### 1.11.1 help() function\n",
    "<p>The Python help() function is used to display the documentation of modules, functions, classes, keyword, etc.</p>"
   ]
  },
  {
   "cell_type": "code",
   "execution_count": 23,
   "id": "bab5a98d-7ce1-4d6a-8975-e9af0611686e",
   "metadata": {},
   "outputs": [
    {
     "name": "stdout",
     "output_type": "stream",
     "text": [
      "Help on built-in function print in module builtins:\n",
      "\n",
      "print(*args, sep=' ', end='\\n', file=None, flush=False)\n",
      "    Prints the values to a stream, or to sys.stdout by default.\n",
      "    \n",
      "    sep\n",
      "      string inserted between values, default a space.\n",
      "    end\n",
      "      string appended after the last value, default a newline.\n",
      "    file\n",
      "      a file-like object (stream); defaults to the current sys.stdout.\n",
      "    flush\n",
      "      whether to forcibly flush the stream.\n",
      "\n"
     ]
    }
   ],
   "source": [
    "help(print)"
   ]
  },
  {
   "cell_type": "markdown",
   "id": "95c6fcfd-a60e-448f-897b-53e8f3b1f48c",
   "metadata": {},
   "source": [
    "### 1.11.2 id() function\n",
    "<p>id() function return the \"identify\" of an object. This is an integer which is guaranteed to be unique and constant for this object during its lifetime.</p>"
   ]
  },
  {
   "cell_type": "code",
   "execution_count": 24,
   "id": "f86f353d-2af5-480e-99d4-929efd9839dc",
   "metadata": {},
   "outputs": [
    {
     "data": {
      "text/plain": [
       "1558750929968"
      ]
     },
     "execution_count": 24,
     "metadata": {},
     "output_type": "execute_result"
    }
   ],
   "source": [
    "a = 1\n",
    "id(print)"
   ]
  },
  {
   "cell_type": "markdown",
   "id": "b43d8c85-1409-4bb7-b7ef-e26c61ab82ca",
   "metadata": {},
   "source": [
    "### 1.11.3 type() function\n",
    "<p>type() function return the type of an object</p>"
   ]
  },
  {
   "cell_type": "code",
   "execution_count": 25,
   "id": "f4b67a15-b1bb-461e-a7a3-2fb97f964d36",
   "metadata": {},
   "outputs": [
    {
     "data": {
      "text/plain": [
       "int"
      ]
     },
     "execution_count": 25,
     "metadata": {},
     "output_type": "execute_result"
    }
   ],
   "source": [
    "a = 1\n",
    "type(a)"
   ]
  },
  {
   "cell_type": "markdown",
   "id": "b53cca2a-e876-4814-a826-e47b4d59dedc",
   "metadata": {},
   "source": [
    "### 1.11.4 del() function\n",
    "<p>del() function deletes an object</p>"
   ]
  },
  {
   "cell_type": "code",
   "execution_count": 26,
   "id": "5cfa8892-f965-4714-94fb-76e8f3e8c893",
   "metadata": {},
   "outputs": [
    {
     "ename": "NameError",
     "evalue": "name 'a' is not defined",
     "output_type": "error",
     "traceback": [
      "\u001b[1;31m---------------------------------------------------------------------------\u001b[0m",
      "\u001b[1;31mNameError\u001b[0m                                 Traceback (most recent call last)",
      "Cell \u001b[1;32mIn[26], line 3\u001b[0m\n\u001b[0;32m      1\u001b[0m a \u001b[38;5;241m=\u001b[39m \u001b[38;5;241m1\u001b[39m \n\u001b[0;32m      2\u001b[0m \u001b[38;5;28;01mdel\u001b[39;00m(a)\n\u001b[1;32m----> 3\u001b[0m \u001b[38;5;28mprint\u001b[39m(a)\n",
      "\u001b[1;31mNameError\u001b[0m: name 'a' is not defined"
     ]
    }
   ],
   "source": [
    "a = 1 \n",
    "del(a)\n",
    "print(a)"
   ]
  },
  {
   "cell_type": "markdown",
   "id": "f6c15e29-f53d-41f7-9c6b-e6e3faab352f",
   "metadata": {},
   "source": [
    "### 1.11.5 len() function\n",
    "<p>len() function returns the length (the number of items) of an object</p>"
   ]
  },
  {
   "cell_type": "code",
   "execution_count": 27,
   "id": "5f96c3d9-f094-4b04-ae19-8201935ca915",
   "metadata": {},
   "outputs": [
    {
     "data": {
      "text/plain": [
       "5"
      ]
     },
     "execution_count": 27,
     "metadata": {},
     "output_type": "execute_result"
    }
   ],
   "source": [
    "len(\"hello\")"
   ]
  },
  {
   "cell_type": "code",
   "execution_count": null,
   "id": "beeb31ad-4566-4007-9c4d-4b7bd2dd4d47",
   "metadata": {},
   "outputs": [],
   "source": []
  }
 ],
 "metadata": {
  "kernelspec": {
   "display_name": "Python 3 (ipykernel)",
   "language": "python",
   "name": "python3"
  },
  "language_info": {
   "codemirror_mode": {
    "name": "ipython",
    "version": 3
   },
   "file_extension": ".py",
   "mimetype": "text/x-python",
   "name": "python",
   "nbconvert_exporter": "python",
   "pygments_lexer": "ipython3",
   "version": "3.11.7"
  }
 },
 "nbformat": 4,
 "nbformat_minor": 5
}
