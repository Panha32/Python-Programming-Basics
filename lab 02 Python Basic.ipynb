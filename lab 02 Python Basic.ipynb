{
 "cells": [
  {
   "cell_type": "markdown",
   "id": "3541dd14-d29f-4c78-91f0-caa34a040799",
   "metadata": {},
   "source": [
    "# 2. Python Data Types\n",
    "## 2.1 Numeric: int, float, complex\n",
    "#### Number Data Type in Python\n",
    "<p>Python supports integer, floating-point numbers and complex number.</p>\n",
    "<p>Integers and floating point are separated by the presence or absence of a decimal point.</p>\n",
    "<p>Complex number are written in the from: x + yj, where x is the real part and y is the imaginary part.</p>\n",
    "<p>Integers can be of any length, a floating-point number is accurate only up to 15 decimal places (the 16th place is inaccurate).</p>"
   ]
  },
  {
   "cell_type": "code",
   "execution_count": 1,
   "id": "4c5cb96e-35e5-4c45-8c46-f25d10eb24f3",
   "metadata": {},
   "outputs": [
    {
     "name": "stdout",
     "output_type": "stream",
     "text": [
      "<class 'int'>\n"
     ]
    }
   ],
   "source": [
    "a = 5\n",
    "print(type(a))"
   ]
  },
  {
   "cell_type": "code",
   "execution_count": 2,
   "id": "973e545f-8b71-4e7c-b4d8-93c7b4a7716e",
   "metadata": {},
   "outputs": [
    {
     "name": "stdout",
     "output_type": "stream",
     "text": [
      "<class 'float'>\n"
     ]
    }
   ],
   "source": [
    "a = 5.0\n",
    "print(type(a))"
   ]
  },
  {
   "cell_type": "code",
   "execution_count": 4,
   "id": "6e82449b-8dde-47fc-b7cf-798240705776",
   "metadata": {},
   "outputs": [
    {
     "name": "stdout",
     "output_type": "stream",
     "text": [
      "<class 'complex'>\n"
     ]
    }
   ],
   "source": [
    "a = 5 + 6j\n",
    "print(type(a))"
   ]
  },
  {
   "cell_type": "markdown",
   "id": "a435e3dd-779b-4c1c-8398-56bf145b54e8",
   "metadata": {},
   "source": [
    "## 2.2 Text: str\n",
    "### 2.2.1 String\n",
    "<p>In Python, a string is a sequence of Unicode characters. Unicode was introduced to include every character in all languages and bring uniformity in endcoding. You can learn about Unicode from Python Unicode.</p>\n",
    "<p>Strings can be created by enclosing charaters inside a single quote or double-quotes.Even triple quotes can be used in Python but generally used to represent multiline strings and docstrings.</p>"
   ]
  },
  {
   "cell_type": "code",
   "execution_count": 5,
   "id": "28e8f2fd-f261-47d7-b1c9-6a45c055536e",
   "metadata": {},
   "outputs": [
    {
     "name": "stdout",
     "output_type": "stream",
     "text": [
      "developer Cambodia\n",
      "developer Cambodia\n",
      "developer\n",
      "\n",
      "Cambodia\n",
      "<class 'str'>\n",
      "<class 'str'>\n",
      "<class 'str'>\n"
     ]
    }
   ],
   "source": [
    "s1 = 'developer Cambodia'\n",
    "s2 = \"developer Cambodia\"\n",
    "s3 = '''developer\n",
    "\n",
    "Cambodia'''\n",
    "\n",
    "print(s1)\n",
    "print(s2)\n",
    "print(s3)\n",
    "print(type(s1))\n",
    "print(type(s2))\n",
    "print(type(s3))"
   ]
  },
  {
   "cell_type": "markdown",
   "id": "d3124376-8b5e-4e2b-9775-2cad771041c0",
   "metadata": {},
   "source": [
    "### 2.2.2 Escape Sequence\n",
    "<p>To insert charactes that are illigal in a string, use an escape character.</p>\n",
    "<p>An escape character is a backslash \\ follow by the character you want to insert.</p>\n",
    "<p>An escape sequence you starts with a backslash and is interpreted differently. If we use a single quote to represent a string, all the single quotes inside the string must be escaped. Similar is the case with double quotes.</p>"
   ]
  },
  {
   "cell_type": "code",
   "execution_count": 6,
   "id": "3850ce88-22c5-46dd-9147-6efe7ec3b034",
   "metadata": {},
   "outputs": [
    {
     "name": "stdout",
     "output_type": "stream",
     "text": [
      "developer\"\n"
     ]
    }
   ],
   "source": [
    "# to show the double quotes\n",
    "s = \"developer\\\"\"\n",
    "print(s)"
   ]
  },
  {
   "cell_type": "code",
   "execution_count": 7,
   "id": "f2b01daa-5964-4c44-ab32-77855b79bafe",
   "metadata": {},
   "outputs": [
    {
     "name": "stdout",
     "output_type": "stream",
     "text": [
      "developer\\\n"
     ]
    }
   ],
   "source": [
    "# to show the backslash\n",
    "s = \"developer\\\\\"\n",
    "print(s)"
   ]
  },
  {
   "cell_type": "code",
   "execution_count": 8,
   "id": "4226a6a7-18f8-41a5-a8bc-6c58e24f4b37",
   "metadata": {},
   "outputs": [
    {
     "name": "stdout",
     "output_type": "stream",
     "text": [
      "del\n",
      "oper\n"
     ]
    }
   ],
   "source": [
    "# to start a new line\n",
    "s = \"del\\noper\"\n",
    "print(s)"
   ]
  },
  {
   "cell_type": "markdown",
   "id": "68f9b8f4-7a7a-4f18-bd54-ed89604dad89",
   "metadata": {},
   "source": [
    "### 2.2.3 Raw String\n",
    "<p>Sometimes we may wish to ignore the escape sequences inside a string. To do this we can place r or R infront of the string. This will imply that it is a raw string and any escape sequence inside it will be ignored.</p>"
   ]
  },
  {
   "cell_type": "code",
   "execution_count": 9,
   "id": "ac599106-efea-4e83-a0a5-ec4d289a3621",
   "metadata": {},
   "outputs": [
    {
     "name": "stdout",
     "output_type": "stream",
     "text": [
      "C:\\abc\\abc\\abc.txt\n"
     ]
    }
   ],
   "source": [
    "s = r\"C:\\abc\\abc\\abc.txt\"\n",
    "print(s)"
   ]
  },
  {
   "cell_type": "markdown",
   "id": "b9dd371a-dd8e-47db-a413-442bb5ed7737",
   "metadata": {},
   "source": [
    "### 2.2.4 Access Characters in a String\n",
    "<p>We can access individual characters using indexing and range of characters using slicing. Index starts from 0. Tryring to access a character out of index range will raise an indexError. The index must be an integer. We can't use float or other types, this will result into TypeError</p>\n",
    "<p>Python allows negative indexing for its sequences.</p>\n",
    "<p>The index of -1 refer to the last item, -2 the second last item and so on. We can access a range of items in a string by using the slicing operator : (colon).</p>"
   ]
  },
  {
   "cell_type": "code",
   "execution_count": 10,
   "id": "e1f5920d-190a-4543-bf2c-f4e85d9f0d52",
   "metadata": {},
   "outputs": [
    {
     "data": {
      "text/plain": [
       "'d'"
      ]
     },
     "execution_count": 10,
     "metadata": {},
     "output_type": "execute_result"
    }
   ],
   "source": [
    "s = \"developer\"\n",
    "s[0]"
   ]
  },
  {
   "cell_type": "code",
   "execution_count": 11,
   "id": "d179a08d-59c0-4e63-be97-a3cd97468be3",
   "metadata": {},
   "outputs": [
    {
     "data": {
      "text/plain": [
       "'e'"
      ]
     },
     "execution_count": 11,
     "metadata": {},
     "output_type": "execute_result"
    }
   ],
   "source": [
    "s[1]"
   ]
  },
  {
   "cell_type": "code",
   "execution_count": 12,
   "id": "b97b95f5-83c2-4375-9083-32b52e9a917c",
   "metadata": {},
   "outputs": [
    {
     "data": {
      "text/plain": [
       "'r'"
      ]
     },
     "execution_count": 12,
     "metadata": {},
     "output_type": "execute_result"
    }
   ],
   "source": [
    "s[-1]"
   ]
  },
  {
   "cell_type": "code",
   "execution_count": 13,
   "id": "b6fe8e1f-d854-4927-9494-740bee81d460",
   "metadata": {},
   "outputs": [
    {
     "ename": "IndexError",
     "evalue": "string index out of range",
     "output_type": "error",
     "traceback": [
      "\u001b[1;31m---------------------------------------------------------------------------\u001b[0m",
      "\u001b[1;31mIndexError\u001b[0m                                Traceback (most recent call last)",
      "Cell \u001b[1;32mIn[13], line 1\u001b[0m\n\u001b[1;32m----> 1\u001b[0m s[\u001b[38;5;241m99\u001b[39m]\n",
      "\u001b[1;31mIndexError\u001b[0m: string index out of range"
     ]
    }
   ],
   "source": [
    "s[99]"
   ]
  },
  {
   "cell_type": "code",
   "execution_count": 14,
   "id": "e48f632c-a17c-44f5-b308-4d5911abd766",
   "metadata": {},
   "outputs": [
    {
     "ename": "TypeError",
     "evalue": "string indices must be integers, not 'float'",
     "output_type": "error",
     "traceback": [
      "\u001b[1;31m---------------------------------------------------------------------------\u001b[0m",
      "\u001b[1;31mTypeError\u001b[0m                                 Traceback (most recent call last)",
      "Cell \u001b[1;32mIn[14], line 1\u001b[0m\n\u001b[1;32m----> 1\u001b[0m s[\u001b[38;5;241m1.0\u001b[39m]\n",
      "\u001b[1;31mTypeError\u001b[0m: string indices must be integers, not 'float'"
     ]
    }
   ],
   "source": [
    "s[1.0]"
   ]
  },
  {
   "cell_type": "code",
   "execution_count": 15,
   "id": "08c894f9-faec-4063-86d4-51e3595db7dd",
   "metadata": {},
   "outputs": [
    {
     "data": {
      "text/plain": [
       "'dev'"
      ]
     },
     "execution_count": 15,
     "metadata": {},
     "output_type": "execute_result"
    }
   ],
   "source": [
    "# developer\n",
    "s[0:3]"
   ]
  },
  {
   "cell_type": "code",
   "execution_count": 16,
   "id": "627309c1-02fa-45c4-95a4-8ce448154d44",
   "metadata": {},
   "outputs": [
    {
     "data": {
      "text/plain": [
       "'dv'"
      ]
     },
     "execution_count": 16,
     "metadata": {},
     "output_type": "execute_result"
    }
   ],
   "source": [
    "# developer\n",
    "s[0:4:2]"
   ]
  },
  {
   "cell_type": "code",
   "execution_count": 17,
   "id": "56397dd8-70df-41ac-82e5-898b215bf058",
   "metadata": {},
   "outputs": [
    {
     "ename": "TypeError",
     "evalue": "'str' object does not support item assignment",
     "output_type": "error",
     "traceback": [
      "\u001b[1;31m---------------------------------------------------------------------------\u001b[0m",
      "\u001b[1;31mTypeError\u001b[0m                                 Traceback (most recent call last)",
      "Cell \u001b[1;32mIn[17], line 2\u001b[0m\n\u001b[0;32m      1\u001b[0m \u001b[38;5;66;03m# unchangeable\u001b[39;00m\n\u001b[1;32m----> 2\u001b[0m s[\u001b[38;5;241m1\u001b[39m] \u001b[38;5;241m=\u001b[39m \u001b[38;5;124m\"\u001b[39m\u001b[38;5;124ma\u001b[39m\u001b[38;5;124m\"\u001b[39m\n",
      "\u001b[1;31mTypeError\u001b[0m: 'str' object does not support item assignment"
     ]
    }
   ],
   "source": [
    "# unchangeable\n",
    "s[1] = \"a\""
   ]
  },
  {
   "cell_type": "markdown",
   "id": "57306cd8-2454-4778-a696-179f13610c45",
   "metadata": {},
   "source": [
    "### 2.2.5 String Operations\n",
    "<p>There are many operations that can be performed with strings which maked it one of the most used data type in Python.</p>\n",
    "<p>Joining of two or more strings into a single one is called concatenation. The + operator does this in Python.</p>\n",
    "<p>The * operator can be used to repeat the string for a given number of times.</p>"
   ]
  },
  {
   "cell_type": "code",
   "execution_count": 18,
   "id": "c9072afd-4ef8-454e-b3ff-1ab7c3df4d84",
   "metadata": {},
   "outputs": [
    {
     "name": "stdout",
     "output_type": "stream",
     "text": [
      "helloworld\n"
     ]
    }
   ],
   "source": [
    "# + operator\n",
    "a = \"hello\"\n",
    "b = \"world\"\n",
    "print(a + b)"
   ]
  },
  {
   "cell_type": "code",
   "execution_count": 19,
   "id": "ddf85b43-852a-4b55-8c48-d8dfe91d9a9f",
   "metadata": {},
   "outputs": [
    {
     "name": "stdout",
     "output_type": "stream",
     "text": [
      "hellohello\n"
     ]
    }
   ],
   "source": [
    "# * operator\n",
    "a = \"hello\"\n",
    "print(a * 2)"
   ]
  },
  {
   "cell_type": "markdown",
   "id": "06d96674-3c65-4e39-9b2d-079295f894a1",
   "metadata": {},
   "source": [
    "### 2.2.6 Common Python String Methods\n",
    "<p>There are numerous methods available with the string object.</p>\n",
    "<p>Some of commonly used method are lower(), upper(), join(), split(), find(), replace(), etc.</p>"
   ]
  },
  {
   "cell_type": "code",
   "execution_count": 20,
   "id": "cd3a8c6c-e195-4681-aa88-8ad03b2546b9",
   "metadata": {},
   "outputs": [
    {
     "data": {
      "text/plain": [
       "['python', 'is', 'cool']"
      ]
     },
     "execution_count": 20,
     "metadata": {},
     "output_type": "execute_result"
    }
   ],
   "source": [
    "# split\n",
    "# str.split(str1) : split a string by str1\n",
    "s = \"python is cool\"\n",
    "s.split(' ')"
   ]
  },
  {
   "cell_type": "code",
   "execution_count": 21,
   "id": "0a580557-4f0c-45a7-a3c2-618d577abfa0",
   "metadata": {},
   "outputs": [
    {
     "data": {
      "text/plain": [
       "'development'"
      ]
     },
     "execution_count": 21,
     "metadata": {},
     "output_type": "execute_result"
    }
   ],
   "source": [
    "# replace\n",
    "# str.replace(str1, str2) : replace str1 by str2\n",
    "s = \"developer\"\n",
    "s.replace(\"er\", \"ment\")"
   ]
  },
  {
   "cell_type": "code",
   "execution_count": 22,
   "id": "07a44675-9742-4108-8966-78f1a5d80a53",
   "metadata": {},
   "outputs": [
    {
     "name": "stdout",
     "output_type": "stream",
     "text": [
      "developer\n",
      "DEVELOPER\n"
     ]
    }
   ],
   "source": [
    "# lower and upper\n",
    "# str.lower() : lower a string\n",
    "# str.upper() : upper a string\n",
    "s = \"Developer\"\n",
    "print(s.lower())\n",
    "print(s.upper())"
   ]
  },
  {
   "cell_type": "code",
   "execution_count": 23,
   "id": "2aaeb57a-4f9e-4972-8441-7905834fc030",
   "metadata": {},
   "outputs": [
    {
     "data": {
      "text/plain": [
       "'python--is--cool'"
      ]
     },
     "execution_count": 23,
     "metadata": {},
     "output_type": "execute_result"
    }
   ],
   "source": [
    "# join\n",
    "# str.join(iter) : join the string by iter\n",
    "\"--\".join(['python', 'is', 'cool'])"
   ]
  },
  {
   "cell_type": "code",
   "execution_count": null,
   "id": "ff3def23-ce0a-47ff-9160-ebaa69ba0f9a",
   "metadata": {},
   "outputs": [],
   "source": []
  }
 ],
 "metadata": {
  "kernelspec": {
   "display_name": "Python 3 (ipykernel)",
   "language": "python",
   "name": "python3"
  },
  "language_info": {
   "codemirror_mode": {
    "name": "ipython",
    "version": 3
   },
   "file_extension": ".py",
   "mimetype": "text/x-python",
   "name": "python",
   "nbconvert_exporter": "python",
   "pygments_lexer": "ipython3",
   "version": "3.11.7"
  }
 },
 "nbformat": 4,
 "nbformat_minor": 5
}
