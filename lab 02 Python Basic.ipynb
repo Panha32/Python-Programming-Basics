{
 "cells": [
  {
   "cell_type": "markdown",
   "id": "3541dd14-d29f-4c78-91f0-caa34a040799",
   "metadata": {},
   "source": [
    "# 2. Python Data Types\n",
    "## 2.1 Numeric: int, float, complex\n",
    "#### Number Data Type in Python\n",
    "<p>Python supports integer, floating-point numbers and complex number.</p>\n",
    "<p>Integers and floating point are separated by the presence or absence of a decimal point.</p>\n",
    "<p>Complex number are written in the from: x + yj, where x is the real part and y is the imaginary part.</p>\n",
    "<p>Integers can be of any length, a floating-point number is accurate only up to 15 decimal places (the 16th place is inaccurate).</p>"
   ]
  },
  {
   "cell_type": "code",
   "execution_count": 1,
   "id": "4c5cb96e-35e5-4c45-8c46-f25d10eb24f3",
   "metadata": {},
   "outputs": [
    {
     "name": "stdout",
     "output_type": "stream",
     "text": [
      "<class 'int'>\n"
     ]
    }
   ],
   "source": [
    "a = 5\n",
    "print(type(a))"
   ]
  },
  {
   "cell_type": "code",
   "execution_count": 2,
   "id": "973e545f-8b71-4e7c-b4d8-93c7b4a7716e",
   "metadata": {},
   "outputs": [
    {
     "name": "stdout",
     "output_type": "stream",
     "text": [
      "<class 'float'>\n"
     ]
    }
   ],
   "source": [
    "a = 5.0\n",
    "print(type(a))"
   ]
  },
  {
   "cell_type": "code",
   "execution_count": 4,
   "id": "6e82449b-8dde-47fc-b7cf-798240705776",
   "metadata": {},
   "outputs": [
    {
     "name": "stdout",
     "output_type": "stream",
     "text": [
      "<class 'complex'>\n"
     ]
    }
   ],
   "source": [
    "a = 5 + 6j\n",
    "print(type(a))"
   ]
  },
  {
   "cell_type": "markdown",
   "id": "a435e3dd-779b-4c1c-8398-56bf145b54e8",
   "metadata": {},
   "source": [
    "## 2.2 Text: str\n",
    "### 2.2.1 String\n",
    "<p>In Python, a string is a sequence of Unicode characters. Unicode was introduced to include every character in all languages and bring uniformity in endcoding. You can learn about Unicode from Python Unicode.</p>\n",
    "<p>Strings can be created by enclosing charaters inside a single quote or double-quotes.Even triple quotes can be used in Python but generally used to represent multiline strings and docstrings.</p>"
   ]
  },
  {
   "cell_type": "code",
   "execution_count": 5,
   "id": "28e8f2fd-f261-47d7-b1c9-6a45c055536e",
   "metadata": {},
   "outputs": [
    {
     "name": "stdout",
     "output_type": "stream",
     "text": [
      "developer Cambodia\n",
      "developer Cambodia\n",
      "developer\n",
      "\n",
      "Cambodia\n",
      "<class 'str'>\n",
      "<class 'str'>\n",
      "<class 'str'>\n"
     ]
    }
   ],
   "source": [
    "s1 = 'developer Cambodia'\n",
    "s2 = \"developer Cambodia\"\n",
    "s3 = '''developer\n",
    "\n",
    "Cambodia'''\n",
    "\n",
    "print(s1)\n",
    "print(s2)\n",
    "print(s3)\n",
    "print(type(s1))\n",
    "print(type(s2))\n",
    "print(type(s3))"
   ]
  },
  {
   "cell_type": "markdown",
   "id": "d3124376-8b5e-4e2b-9775-2cad771041c0",
   "metadata": {},
   "source": [
    "### 2.2.2 Escape Sequence\n",
    "<p>To insert charactes that are illigal in a string, use an escape character.</p>\n",
    "<p>An escape character is a backslash \\ follow by the character you want to insert.</p>\n",
    "<p>An escape sequence you starts with a backslash and is interpreted differently. If we use a single quote to represent a string, all the single quotes inside the string must be escaped. Similar is the case with double quotes.</p>"
   ]
  },
  {
   "cell_type": "code",
   "execution_count": 6,
   "id": "3850ce88-22c5-46dd-9147-6efe7ec3b034",
   "metadata": {},
   "outputs": [
    {
     "name": "stdout",
     "output_type": "stream",
     "text": [
      "developer\"\n"
     ]
    }
   ],
   "source": [
    "# to show the double quotes\n",
    "s = \"developer\\\"\"\n",
    "print(s)"
   ]
  },
  {
   "cell_type": "code",
   "execution_count": 7,
   "id": "f2b01daa-5964-4c44-ab32-77855b79bafe",
   "metadata": {},
   "outputs": [
    {
     "name": "stdout",
     "output_type": "stream",
     "text": [
      "developer\\\n"
     ]
    }
   ],
   "source": [
    "# to show the backslash\n",
    "s = \"developer\\\\\"\n",
    "print(s)"
   ]
  },
  {
   "cell_type": "code",
   "execution_count": 8,
   "id": "4226a6a7-18f8-41a5-a8bc-6c58e24f4b37",
   "metadata": {},
   "outputs": [
    {
     "name": "stdout",
     "output_type": "stream",
     "text": [
      "del\n",
      "oper\n"
     ]
    }
   ],
   "source": [
    "# to start a new line\n",
    "s = \"del\\noper\"\n",
    "print(s)"
   ]
  },
  {
   "cell_type": "markdown",
   "id": "68f9b8f4-7a7a-4f18-bd54-ed89604dad89",
   "metadata": {},
   "source": [
    "### 2.2.3 Raw String\n",
    "<p>Sometimes we may wish to ignore the escape sequences inside a string. To do this we can place r or R infront of the string. This will imply that it is a raw string and any escape sequence inside it will be ignored.</p>"
   ]
  },
  {
   "cell_type": "code",
   "execution_count": 9,
   "id": "ac599106-efea-4e83-a0a5-ec4d289a3621",
   "metadata": {},
   "outputs": [
    {
     "name": "stdout",
     "output_type": "stream",
     "text": [
      "C:\\abc\\abc\\abc.txt\n"
     ]
    }
   ],
   "source": [
    "s = r\"C:\\abc\\abc\\abc.txt\"\n",
    "print(s)"
   ]
  },
  {
   "cell_type": "markdown",
   "id": "b9dd371a-dd8e-47db-a413-442bb5ed7737",
   "metadata": {},
   "source": [
    "### 2.2.4 Access Characters in a String\n",
    "<p>We can access individual characters using indexing and range of characters using slicing. Index starts from 0. Tryring to access a character out of index range will raise an indexError. The index must be an integer. We can't use float or other types, this will result into TypeError</p>\n",
    "<p>Python allows negative indexing for its sequences.</p>\n",
    "<p>The index of -1 refer to the last item, -2 the second last item and so on. We can access a range of items in a string by using the slicing operator : (colon).</p>"
   ]
  },
  {
   "cell_type": "code",
   "execution_count": 10,
   "id": "e1f5920d-190a-4543-bf2c-f4e85d9f0d52",
   "metadata": {},
   "outputs": [
    {
     "data": {
      "text/plain": [
       "'d'"
      ]
     },
     "execution_count": 10,
     "metadata": {},
     "output_type": "execute_result"
    }
   ],
   "source": [
    "s = \"developer\"\n",
    "s[0]"
   ]
  },
  {
   "cell_type": "code",
   "execution_count": 11,
   "id": "d179a08d-59c0-4e63-be97-a3cd97468be3",
   "metadata": {},
   "outputs": [
    {
     "data": {
      "text/plain": [
       "'e'"
      ]
     },
     "execution_count": 11,
     "metadata": {},
     "output_type": "execute_result"
    }
   ],
   "source": [
    "s[1]"
   ]
  },
  {
   "cell_type": "code",
   "execution_count": 12,
   "id": "b97b95f5-83c2-4375-9083-32b52e9a917c",
   "metadata": {},
   "outputs": [
    {
     "data": {
      "text/plain": [
       "'r'"
      ]
     },
     "execution_count": 12,
     "metadata": {},
     "output_type": "execute_result"
    }
   ],
   "source": [
    "s[-1]"
   ]
  },
  {
   "cell_type": "code",
   "execution_count": 13,
   "id": "b6fe8e1f-d854-4927-9494-740bee81d460",
   "metadata": {},
   "outputs": [
    {
     "ename": "IndexError",
     "evalue": "string index out of range",
     "output_type": "error",
     "traceback": [
      "\u001b[1;31m---------------------------------------------------------------------------\u001b[0m",
      "\u001b[1;31mIndexError\u001b[0m                                Traceback (most recent call last)",
      "Cell \u001b[1;32mIn[13], line 1\u001b[0m\n\u001b[1;32m----> 1\u001b[0m s[\u001b[38;5;241m99\u001b[39m]\n",
      "\u001b[1;31mIndexError\u001b[0m: string index out of range"
     ]
    }
   ],
   "source": [
    "s[99]"
   ]
  },
  {
   "cell_type": "code",
   "execution_count": 14,
   "id": "e48f632c-a17c-44f5-b308-4d5911abd766",
   "metadata": {},
   "outputs": [
    {
     "ename": "TypeError",
     "evalue": "string indices must be integers, not 'float'",
     "output_type": "error",
     "traceback": [
      "\u001b[1;31m---------------------------------------------------------------------------\u001b[0m",
      "\u001b[1;31mTypeError\u001b[0m                                 Traceback (most recent call last)",
      "Cell \u001b[1;32mIn[14], line 1\u001b[0m\n\u001b[1;32m----> 1\u001b[0m s[\u001b[38;5;241m1.0\u001b[39m]\n",
      "\u001b[1;31mTypeError\u001b[0m: string indices must be integers, not 'float'"
     ]
    }
   ],
   "source": [
    "s[1.0]"
   ]
  },
  {
   "cell_type": "code",
   "execution_count": 15,
   "id": "08c894f9-faec-4063-86d4-51e3595db7dd",
   "metadata": {},
   "outputs": [
    {
     "data": {
      "text/plain": [
       "'dev'"
      ]
     },
     "execution_count": 15,
     "metadata": {},
     "output_type": "execute_result"
    }
   ],
   "source": [
    "# developer\n",
    "s[0:3]"
   ]
  },
  {
   "cell_type": "code",
   "execution_count": 16,
   "id": "627309c1-02fa-45c4-95a4-8ce448154d44",
   "metadata": {},
   "outputs": [
    {
     "data": {
      "text/plain": [
       "'dv'"
      ]
     },
     "execution_count": 16,
     "metadata": {},
     "output_type": "execute_result"
    }
   ],
   "source": [
    "# developer\n",
    "s[0:4:2]"
   ]
  },
  {
   "cell_type": "code",
   "execution_count": 17,
   "id": "56397dd8-70df-41ac-82e5-898b215bf058",
   "metadata": {},
   "outputs": [
    {
     "ename": "TypeError",
     "evalue": "'str' object does not support item assignment",
     "output_type": "error",
     "traceback": [
      "\u001b[1;31m---------------------------------------------------------------------------\u001b[0m",
      "\u001b[1;31mTypeError\u001b[0m                                 Traceback (most recent call last)",
      "Cell \u001b[1;32mIn[17], line 2\u001b[0m\n\u001b[0;32m      1\u001b[0m \u001b[38;5;66;03m# unchangeable\u001b[39;00m\n\u001b[1;32m----> 2\u001b[0m s[\u001b[38;5;241m1\u001b[39m] \u001b[38;5;241m=\u001b[39m \u001b[38;5;124m\"\u001b[39m\u001b[38;5;124ma\u001b[39m\u001b[38;5;124m\"\u001b[39m\n",
      "\u001b[1;31mTypeError\u001b[0m: 'str' object does not support item assignment"
     ]
    }
   ],
   "source": [
    "# unchangeable\n",
    "s[1] = \"a\""
   ]
  },
  {
   "cell_type": "markdown",
   "id": "57306cd8-2454-4778-a696-179f13610c45",
   "metadata": {},
   "source": [
    "### 2.2.5 String Operations\n",
    "<p>There are many operations that can be performed with strings which maked it one of the most used data type in Python.</p>\n",
    "<p>Joining of two or more strings into a single one is called concatenation. The + operator does this in Python.</p>\n",
    "<p>The * operator can be used to repeat the string for a given number of times.</p>"
   ]
  },
  {
   "cell_type": "code",
   "execution_count": 18,
   "id": "c9072afd-4ef8-454e-b3ff-1ab7c3df4d84",
   "metadata": {},
   "outputs": [
    {
     "name": "stdout",
     "output_type": "stream",
     "text": [
      "helloworld\n"
     ]
    }
   ],
   "source": [
    "# + operator\n",
    "a = \"hello\"\n",
    "b = \"world\"\n",
    "print(a + b)"
   ]
  },
  {
   "cell_type": "code",
   "execution_count": 19,
   "id": "ddf85b43-852a-4b55-8c48-d8dfe91d9a9f",
   "metadata": {},
   "outputs": [
    {
     "name": "stdout",
     "output_type": "stream",
     "text": [
      "hellohello\n"
     ]
    }
   ],
   "source": [
    "# * operator\n",
    "a = \"hello\"\n",
    "print(a * 2)"
   ]
  },
  {
   "cell_type": "markdown",
   "id": "06d96674-3c65-4e39-9b2d-079295f894a1",
   "metadata": {},
   "source": [
    "### 2.2.6 Common Python String Methods\n",
    "<p>There are numerous methods available with the string object.</p>\n",
    "<p>Some of commonly used method are lower(), upper(), join(), split(), find(), replace(), etc.</p>"
   ]
  },
  {
   "cell_type": "code",
   "execution_count": 20,
   "id": "cd3a8c6c-e195-4681-aa88-8ad03b2546b9",
   "metadata": {},
   "outputs": [
    {
     "data": {
      "text/plain": [
       "['python', 'is', 'cool']"
      ]
     },
     "execution_count": 20,
     "metadata": {},
     "output_type": "execute_result"
    }
   ],
   "source": [
    "# split\n",
    "# str.split(str1) : split a string by str1\n",
    "s = \"python is cool\"\n",
    "s.split(' ')"
   ]
  },
  {
   "cell_type": "code",
   "execution_count": 21,
   "id": "0a580557-4f0c-45a7-a3c2-618d577abfa0",
   "metadata": {},
   "outputs": [
    {
     "data": {
      "text/plain": [
       "'development'"
      ]
     },
     "execution_count": 21,
     "metadata": {},
     "output_type": "execute_result"
    }
   ],
   "source": [
    "# replace\n",
    "# str.replace(str1, str2) : replace str1 by str2\n",
    "s = \"developer\"\n",
    "s.replace(\"er\", \"ment\")"
   ]
  },
  {
   "cell_type": "code",
   "execution_count": 22,
   "id": "07a44675-9742-4108-8966-78f1a5d80a53",
   "metadata": {},
   "outputs": [
    {
     "name": "stdout",
     "output_type": "stream",
     "text": [
      "developer\n",
      "DEVELOPER\n"
     ]
    }
   ],
   "source": [
    "# lower and upper\n",
    "# str.lower() : lower a string\n",
    "# str.upper() : upper a string\n",
    "s = \"Developer\"\n",
    "print(s.lower())\n",
    "print(s.upper())"
   ]
  },
  {
   "cell_type": "code",
   "execution_count": 23,
   "id": "2aaeb57a-4f9e-4972-8441-7905834fc030",
   "metadata": {},
   "outputs": [
    {
     "data": {
      "text/plain": [
       "'python--is--cool'"
      ]
     },
     "execution_count": 23,
     "metadata": {},
     "output_type": "execute_result"
    }
   ],
   "source": [
    "# join\n",
    "# str.join(iter) : join the string by iter\n",
    "\"--\".join(['python', 'is', 'cool'])"
   ]
  },
  {
   "cell_type": "markdown",
   "id": "bd6a61d3-b03c-45a4-89df-c7272eb8b148",
   "metadata": {},
   "source": [
    "### 2.2.7 String formatting"
   ]
  },
  {
   "cell_type": "code",
   "execution_count": 1,
   "id": "856d2631-9673-4b3f-9121-12ab6098035e",
   "metadata": {},
   "outputs": [
    {
     "data": {
      "text/plain": [
       "'My name is AI, age is 63'"
      ]
     },
     "execution_count": 1,
     "metadata": {},
     "output_type": "execute_result"
    }
   ],
   "source": [
    "# switch %s and %d with AI and 63\n",
    "'My name is %s, age is %d' %('AI', 63)"
   ]
  },
  {
   "cell_type": "markdown",
   "id": "e3d00da0-10a6-4d97-bd80-605dc7baacbb",
   "metadata": {},
   "source": [
    "## 2.3 Lists\n",
    "<p>Lists are mutable sequences, typically used to store collections of homogeneous items.</p>\n",
    "<p>list = [obj1, obj2, ...]</p>"
   ]
  },
  {
   "cell_type": "code",
   "execution_count": 2,
   "id": "9725fda4-2054-4c0a-8115-cca5f049f47e",
   "metadata": {},
   "outputs": [
    {
     "name": "stdout",
     "output_type": "stream",
     "text": [
      "[1, 2, 3]\n"
     ]
    }
   ],
   "source": [
    "l = [1, 2, 3] # create a list\n",
    "print(l)"
   ]
  },
  {
   "cell_type": "code",
   "execution_count": 3,
   "id": "d302890f-9994-476f-b3f0-fd49680bf3a3",
   "metadata": {},
   "outputs": [
    {
     "name": "stdout",
     "output_type": "stream",
     "text": [
      "2\n",
      "[1, 2]\n",
      "[1, 3]\n"
     ]
    }
   ],
   "source": [
    "# access item in a list\n",
    "print(l[1])\n",
    "print(l[0:2])\n",
    "print(l[0:3:2])"
   ]
  },
  {
   "cell_type": "code",
   "execution_count": 4,
   "id": "3e0bb5ef-955c-430d-b464-bf52ea4348eb",
   "metadata": {},
   "outputs": [
    {
     "name": "stdout",
     "output_type": "stream",
     "text": [
      "[1, 0, 3]\n"
     ]
    }
   ],
   "source": [
    "# change item in a list\n",
    "l[1] = 0\n",
    "print(l)"
   ]
  },
  {
   "cell_type": "markdown",
   "id": "6e4548f6-6c79-4f5b-91a2-31fd04f36c62",
   "metadata": {},
   "source": [
    "### 2.3.1 Lists Operators\n",
    "<p>Same as string operators</p>"
   ]
  },
  {
   "cell_type": "code",
   "execution_count": 5,
   "id": "43ecdcef-fea1-4639-8f8d-955e35875446",
   "metadata": {},
   "outputs": [],
   "source": [
    "a = [1, 2, 3]\n",
    "b = [4, 5]"
   ]
  },
  {
   "cell_type": "code",
   "execution_count": 6,
   "id": "79f1517d-3078-4e25-a456-9e0564fd46d9",
   "metadata": {},
   "outputs": [
    {
     "name": "stdout",
     "output_type": "stream",
     "text": [
      "[1, 2, 3, 1, 2, 3]\n",
      "[1, 2, 3, 4, 5]\n"
     ]
    }
   ],
   "source": [
    "# * operator\n",
    "print(a * 2)\n",
    "# + operator\n",
    "print(a + b)"
   ]
  },
  {
   "cell_type": "markdown",
   "id": "4a6126ab-9a10-4d3e-a9bf-b6d49b885251",
   "metadata": {},
   "source": [
    "### 2.3.2 Lists Methods"
   ]
  },
  {
   "cell_type": "code",
   "execution_count": 7,
   "id": "102a935f-4f1c-424d-b851-d93028c65274",
   "metadata": {},
   "outputs": [
    {
     "name": "stdout",
     "output_type": "stream",
     "text": [
      "['cat', 'dog', 'bird', 'fish']\n"
     ]
    }
   ],
   "source": [
    "animals = ['cat', 'dog', 'bird']\n",
    "# list.append(obj) : add one item to end of a list\n",
    "animals.append('fish')\n",
    "print(animals)"
   ]
  },
  {
   "cell_type": "code",
   "execution_count": 14,
   "id": "4adedcf2-bff8-4f25-a938-e3647488e76e",
   "metadata": {},
   "outputs": [
    {
     "name": "stdout",
     "output_type": "stream",
     "text": [
      "['cat', 'dog', 'bird']\n"
     ]
    }
   ],
   "source": [
    "# list.remove(obj) : delete one or more items from a list\n",
    "animals.remove('fish')\n",
    "print(animals)"
   ]
  },
  {
   "cell_type": "code",
   "execution_count": 15,
   "id": "a780206c-50bb-4f90-b350-91d665d98ab2",
   "metadata": {},
   "outputs": [
    {
     "name": "stdout",
     "output_type": "stream",
     "text": [
      "['cat', 'fish', 'dog', 'bird']\n"
     ]
    }
   ],
   "source": [
    "# list.insert(index, obj) : insert an item at the defined index\n",
    "animals.insert(1, 'fish') # insert fish at index 1\n",
    "print(animals)"
   ]
  },
  {
   "cell_type": "code",
   "execution_count": 16,
   "id": "287ea38f-2eb2-4f00-9d4a-9be63b503610",
   "metadata": {},
   "outputs": [
    {
     "name": "stdout",
     "output_type": "stream",
     "text": [
      "bird\n"
     ]
    }
   ],
   "source": [
    "# list.pop([index = -1]) : remove and return the last item if the index is not provided\n",
    "print(animals.pop())"
   ]
  },
  {
   "cell_type": "code",
   "execution_count": 17,
   "id": "a47a33ea-881d-43e4-891a-5457b108024f",
   "metadata": {},
   "outputs": [
    {
     "name": "stdout",
     "output_type": "stream",
     "text": [
      "['cat', 'fish', 'dog']\n"
     ]
    }
   ],
   "source": [
    "print(animals)"
   ]
  },
  {
   "cell_type": "code",
   "execution_count": 18,
   "id": "461e0732-2371-4667-a160-3b4a2100caa9",
   "metadata": {},
   "outputs": [
    {
     "name": "stdout",
     "output_type": "stream",
     "text": [
      "0 cat\n",
      "1 fish\n",
      "2 dog\n"
     ]
    }
   ],
   "source": [
    "# enumerate(sequence) : adds counter to an iterable and returns it\n",
    "for i, x in enumerate(animals):\n",
    "    print(i, x)"
   ]
  },
  {
   "cell_type": "code",
   "execution_count": 19,
   "id": "8f56fa9c-90dc-410d-96cc-471c85054c7c",
   "metadata": {},
   "outputs": [
    {
     "name": "stdout",
     "output_type": "stream",
     "text": [
      "[12, 32, 45, 55]\n"
     ]
    }
   ],
   "source": [
    "# list sort\n",
    "list1 = [12, 45, 32, 55]\n",
    "# list.sort(cmp = None, key = None, reverse = false) : sorts the elements of a given list in a specific ascending \n",
    "list1.sort() # sort list1\n",
    "print(list1)"
   ]
  },
  {
   "cell_type": "code",
   "execution_count": 20,
   "id": "ea2b4141-ed53-404e-a11e-6574ec292511",
   "metadata": {},
   "outputs": [
    {
     "name": "stdout",
     "output_type": "stream",
     "text": [
      "[55, 45, 32, 12]\n"
     ]
    }
   ],
   "source": [
    "# list.reverse() : reverses the elements of the list\n",
    "list1.reverse()\n",
    "print(list1)"
   ]
  },
  {
   "cell_type": "code",
   "execution_count": 21,
   "id": "ccb0d22f-72fe-4bad-89cc-e3f6ea9c23a7",
   "metadata": {},
   "outputs": [
    {
     "name": "stdout",
     "output_type": "stream",
     "text": [
      "['catcat', 'fishfish', 'dogdog']\n"
     ]
    }
   ],
   "source": [
    "# list Comprehension\n",
    "squares = [x * 2 for x in animals] # define and create lists based on existing lists.\n",
    "print(squares)"
   ]
  },
  {
   "cell_type": "markdown",
   "id": "28e32c7e-5548-4d2e-a495-958b1a39a966",
   "metadata": {},
   "source": [
    "### 2.3.3 Lists slicing and indexing\n",
    "<p>List indexing returns the index of the specified element in the list</p>"
   ]
  },
  {
   "cell_type": "code",
   "execution_count": 22,
   "id": "782dc502-4a34-4672-bea2-2e01be601c4d",
   "metadata": {},
   "outputs": [
    {
     "data": {
      "text/plain": [
       "4"
      ]
     },
     "execution_count": 22,
     "metadata": {},
     "output_type": "execute_result"
    }
   ],
   "source": [
    "l = [[1, 3], [4, 5]]\n",
    "l[1][0]"
   ]
  },
  {
   "cell_type": "markdown",
   "id": "fd8a596e-3dd5-443b-83c9-7e9ead89ee65",
   "metadata": {},
   "source": [
    "<p>List slicing returns a slice object that can be used to slice strings, lists, tuple, etc.</p>\n",
    "<p>list[start:end:step]:</p>\n",
    "<ul>\n",
    "    <li>start : where slicing starts; Default to None if not provided.</li>\n",
    "    <li>end : where slicing stops.</li>\n",
    "    <li>step : determines the increment between each index for slicing. Default to None if not provided.</li>\n",
    "</ul>"
   ]
  },
  {
   "cell_type": "code",
   "execution_count": 23,
   "id": "d21f347d-4886-4f8b-ad8f-6ac21330bc4b",
   "metadata": {},
   "outputs": [
    {
     "data": {
      "text/plain": [
       "[0, 2, 4]"
      ]
     },
     "execution_count": 23,
     "metadata": {},
     "output_type": "execute_result"
    }
   ],
   "source": [
    "l = [0, 1, 2, 3, 4, 5]\n",
    "l[::2]"
   ]
  },
  {
   "cell_type": "code",
   "execution_count": 24,
   "id": "50aeca98-174d-460c-898b-7409c93ffe72",
   "metadata": {},
   "outputs": [
    {
     "data": {
      "text/plain": [
       "[1, 3]"
      ]
     },
     "execution_count": 24,
     "metadata": {},
     "output_type": "execute_result"
    }
   ],
   "source": [
    "l[1:4:2]"
   ]
  },
  {
   "cell_type": "markdown",
   "id": "d166d23b-ab35-4315-a01f-80f1b03e6250",
   "metadata": {},
   "source": [
    "## 2.4 Tuples"
   ]
  },
  {
   "cell_type": "code",
   "execution_count": null,
   "id": "5aff4d87-7966-48fd-bf61-8b570c784fc3",
   "metadata": {},
   "outputs": [],
   "source": []
  }
 ],
 "metadata": {
  "kernelspec": {
   "display_name": "Python 3 (ipykernel)",
   "language": "python",
   "name": "python3"
  },
  "language_info": {
   "codemirror_mode": {
    "name": "ipython",
    "version": 3
   },
   "file_extension": ".py",
   "mimetype": "text/x-python",
   "name": "python",
   "nbconvert_exporter": "python",
   "pygments_lexer": "ipython3",
   "version": "3.11.7"
  }
 },
 "nbformat": 4,
 "nbformat_minor": 5
}
